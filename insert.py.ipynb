{
 "cells": [
  {
   "cell_type": "code",
   "id": "initial_id",
   "metadata": {
    "collapsed": true,
    "ExecuteTime": {
     "end_time": "2025-06-24T06:22:32.818277Z",
     "start_time": "2025-06-24T06:22:32.799688Z"
    }
   },
   "source": [
    "# Insert records into accounts table\n",
    "try:\n",
    "    with engine.connect() as conn:\n",
    "        conn.execute(\n",
    "            accounts_table.insert(),\n",
    "            [\n",
    "                {'account_id': 101, 'account_holder': 'Yasaswini', 'account_type': 'Savings', 'balance': 5000},\n",
    "                {'account_id': 102, 'account_holder': 'Krishna', 'account_type': 'Current', 'balance': 12000}\n",
    "            ]\n",
    "        )\n",
    "        print(\"✅ Sample accounts inserted.\")\n",
    "except Exception as e:\n",
    "    print(\"❌ Insertion failed:\", e)\n"
   ],
   "outputs": [
    {
     "name": "stdout",
     "output_type": "stream",
     "text": [
      "❌ Insertion failed: name 'engine' is not defined\n"
     ]
    }
   ],
   "execution_count": 1
  }
 ],
 "metadata": {
  "kernelspec": {
   "display_name": "Python 3",
   "language": "python",
   "name": "python3"
  },
  "language_info": {
   "codemirror_mode": {
    "name": "ipython",
    "version": 2
   },
   "file_extension": ".py",
   "mimetype": "text/x-python",
   "name": "python",
   "nbconvert_exporter": "python",
   "pygments_lexer": "ipython2",
   "version": "2.7.6"
  }
 },
 "nbformat": 4,
 "nbformat_minor": 5
}
