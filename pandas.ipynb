{
 "cells": [
  {
   "metadata": {
    "ExecuteTime": {
     "end_time": "2025-06-23T04:51:14.507878Z",
     "start_time": "2025-06-23T04:51:12.247618Z"
    }
   },
   "cell_type": "code",
   "source": [
    "import pandas as pd\n",
    "\n",
    "data = {\n",
    "    'Name': ['Tom', 'Nick', 'Krish', 'Jack'],\n",
    "    'Age': [23, 45, 56, 78]\n",
    "}\n",
    "\n",
    "df = pd.DataFrame(data)\n",
    "print(df)\n",
    "\n",
    "# Save the DataFrame to an Excel file\n",
    "df.to_excel(r\"C:\\Users\\grk66\\OneDrive\\Documents\\ouput.xlsx\", index=False)\n"
   ],
   "id": "cac2288a7ed0800f",
   "outputs": [
    {
     "name": "stdout",
     "output_type": "stream",
     "text": [
      "    Name  Age\n",
      "0    Tom   23\n",
      "1   Nick   45\n",
      "2  Krish   56\n",
      "3   Jack   78\n"
     ]
    }
   ],
   "execution_count": 13
  },
  {
   "metadata": {},
   "cell_type": "code",
   "outputs": [],
   "execution_count": null,
   "source": [
    "from bs4 import BeautifulSoup\n",
    "xml_data = \"\"\"\n",
    "    <books>\n",
    "        <book id=\"1\">\n",
    "        <title>The Great Gather\n",
    "\n",
    "\"\"\""
   ],
   "id": "a8a633f038c4b793"
  }
 ],
 "metadata": {
  "kernelspec": {
   "display_name": "Python 3",
   "language": "python",
   "name": "python3"
  },
  "language_info": {
   "codemirror_mode": {
    "name": "ipython",
    "version": 2
   },
   "file_extension": ".py",
   "mimetype": "text/x-python",
   "name": "python",
   "nbconvert_exporter": "python",
   "pygments_lexer": "ipython2",
   "version": "2.7.6"
  }
 },
 "nbformat": 4,
 "nbformat_minor": 5
}
