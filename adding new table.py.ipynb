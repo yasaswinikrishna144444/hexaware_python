{
 "cells": [
  {
   "cell_type": "code",
   "id": "initial_id",
   "metadata": {
    "collapsed": true,
    "ExecuteTime": {
     "end_time": "2025-06-24T06:47:14.079629Z",
     "start_time": "2025-06-24T06:47:14.073822Z"
    }
   },
   "source": [
    "from sqlalchemy import create_engine, MetaData, Table, Column, Integer, String, text, select\n",
    "import urllib\n",
    "\n",
    "# Step 1: Setup connection\n",
    "params = urllib.parse.quote_plus(\n",
    "    \"DRIVER={ODBC Driver 17 for SQL Server};\"\n",
    "    \"SERVER=LAPTOP-ECJLSAST\\\\SQLExpress;\"\n",
    "    \"DATABASE=master;\"  # change to 'BankDB' if you created it\n",
    "    \"Trusted_Connection=yes;\"\n",
    ")\n",
    "engine = create_engine(f\"mssql+pyodbc:///?odbc_connect={params}\")\n",
    "\n",
    "# Step 2: Metadata setup\n",
    "metadata = MetaData()\n",
    "\n",
    "# Step 3: Define the accounts table\n",
    "accounts_table = Table(\n",
    "    'accounts',\n",
    "    metadata,\n",
    "    Column('account_id', Integer, primary_key=True),\n",
    "    Column('account_holder', String(100), nullable=False),\n",
    "    Column('account_type', String(50), nullable=False),\n",
    "    Column('balance', Integer, nullable=False)\n",
    ")\n",
    "\n"
   ],
   "outputs": [],
   "execution_count": 83
  },
  {
   "metadata": {
    "ExecuteTime": {
     "end_time": "2025-06-24T06:47:14.170065Z",
     "start_time": "2025-06-24T06:47:14.096004Z"
    }
   },
   "cell_type": "code",
   "source": [
    "# Insert new records into accounts table\n",
    "try:\n",
    "    with engine.begin() as conn:  # ✅ use begin() to auto-commit\n",
    "        conn.execute(\n",
    "            accounts_table.insert(),\n",
    "            [\n",
    "                {'account_id': 103, 'account_holder': 'Ajay', 'account_type': 'Savings', 'balance': 8000},\n",
    "                {'account_id': 104, 'account_holder': 'Sita', 'account_type': 'Current', 'balance': 15000}\n",
    "            ]\n",
    "        )\n",
    "        print(\" New accounts inserted.\")\n",
    "except Exception as e:\n",
    "    print(\" Insertion failed:\", e)\n"
   ],
   "id": "4866ceb4e6ce9930",
   "outputs": [
    {
     "name": "stdout",
     "output_type": "stream",
     "text": [
      " Insertion failed: (pyodbc.IntegrityError) ('23000', \"[23000] [Microsoft][ODBC Driver 17 for SQL Server][SQL Server]Violation of PRIMARY KEY constraint 'PK__accounts__46A222CD013DC830'. Cannot insert duplicate key in object 'dbo.accounts'. The duplicate key value is (103). (2627) (SQLExecDirectW); [23000] [Microsoft][ODBC Driver 17 for SQL Server][SQL Server]The statement has been terminated. (3621)\")\n",
      "[SQL: INSERT INTO accounts (account_id, account_holder, account_type, balance) VALUES (?, ?, ?, ?), (?, ?, ?, ?)]\n",
      "[parameters: (103, 'Ajay', 'Savings', 8000, 104, 'Sita', 'Current', 15000)]\n",
      "(Background on this error at: https://sqlalche.me/e/20/gkpj)\n"
     ]
    }
   ],
   "execution_count": 84
  },
  {
   "metadata": {
    "ExecuteTime": {
     "end_time": "2025-06-24T06:47:14.191835Z",
     "start_time": "2025-06-24T06:47:14.183860Z"
    }
   },
   "cell_type": "code",
   "source": [
    "# Read and display all account records\n",
    "try:\n",
    "    with engine.connect() as conn:\n",
    "        result = conn.execute(select(accounts_table))\n",
    "        print(\" Account Table Data:\")\n",
    "        for row in result:\n",
    "            print(row)\n",
    "except Exception as e:\n",
    "    print(\" Reading accounts failed:\", e)\n"
   ],
   "id": "bfe363a89a0c21d2",
   "outputs": [
    {
     "name": "stdout",
     "output_type": "stream",
     "text": [
      " Account Table Data:\n",
      "(101, 'Yasaswini', 'Savings', 5000)\n",
      "(102, 'Krishna', 'Current', 12000)\n",
      "(103, 'Ajay', 'Savings', 8000)\n",
      "(104, 'Sita', 'Current', 15000)\n"
     ]
    }
   ],
   "execution_count": 85
  },
  {
   "metadata": {
    "ExecuteTime": {
     "end_time": "2025-06-24T06:47:14.218230Z",
     "start_time": "2025-06-24T06:47:14.211026Z"
    }
   },
   "cell_type": "code",
   "source": [
    "# Re-read to confirm the update\n",
    "try:\n",
    "    with engine.connect() as conn:\n",
    "        result = conn.execute(select(accounts_table))\n",
    "        print(\" Updated Account Table:\")\n",
    "        for row in result:\n",
    "            print(row)\n",
    "except Exception as e:\n",
    "    print(\" Reading updated data failed:\", e)\n"
   ],
   "id": "89df367228f3b53f",
   "outputs": [
    {
     "name": "stdout",
     "output_type": "stream",
     "text": [
      " Updated Account Table:\n",
      "(101, 'Yasaswini', 'Savings', 5000)\n",
      "(102, 'Krishna', 'Current', 12000)\n",
      "(103, 'Ajay', 'Savings', 8000)\n",
      "(104, 'Sita', 'Current', 15000)\n"
     ]
    }
   ],
   "execution_count": 86
  },
  {
   "metadata": {
    "ExecuteTime": {
     "end_time": "2025-06-24T06:47:14.244367Z",
     "start_time": "2025-06-24T06:47:14.235359Z"
    }
   },
   "cell_type": "code",
   "source": [
    "from sqlalchemy import update\n",
    "\n",
    "try:\n",
    "    with engine.connect() as conn:\n",
    "        # Add 2000 to balance of account_id = 101\n",
    "        conn.execute(\n",
    "            update(accounts_table)\n",
    "            .where(accounts_table.c.account_id == 101)\n",
    "            .values(balance=accounts_table.c.balance + 2000)\n",
    "        )\n",
    "        print(\" Balance updated successfully.\")\n",
    "except Exception as e:\n",
    "    print(\" Balance update failed:\", e)\n"
   ],
   "id": "f679f0711c18e8c1",
   "outputs": [
    {
     "name": "stdout",
     "output_type": "stream",
     "text": [
      " Balance updated successfully.\n"
     ]
    }
   ],
   "execution_count": 87
  },
  {
   "metadata": {
    "ExecuteTime": {
     "end_time": "2025-06-24T06:47:14.268468Z",
     "start_time": "2025-06-24T06:47:14.260426Z"
    }
   },
   "cell_type": "code",
   "source": [
    "stmt = select(accounts_table.c.account_id).where(accounts_table.c.account_id == 101)\n",
    "with engine.begin() as conn:\n",
    "    result = conn.execute(stmt).fetchone()\n",
    "    if result:\n",
    "        print(\" Account already exists.\")\n",
    "    else:\n",
    "        conn.execute(\n",
    "            accounts_table.insert().values(account_id=101, account_holder='Yasaswini', account_type='Savings', balance=5000)\n",
    "        )\n",
    "        print(\" Inserted new account.\")\n"
   ],
   "id": "baa7d3b3237bb830",
   "outputs": [
    {
     "name": "stdout",
     "output_type": "stream",
     "text": [
      " Account already exists.\n"
     ]
    }
   ],
   "execution_count": 88
  },
  {
   "metadata": {
    "ExecuteTime": {
     "end_time": "2025-06-24T06:47:14.298114Z",
     "start_time": "2025-06-24T06:47:14.289809Z"
    }
   },
   "cell_type": "code",
   "source": [
    "\n",
    "try:\n",
    "    with engine.begin() as conn:\n",
    "        result = conn.execute(select(accounts_table))\n",
    "        print(\"Account Table Data:\")\n",
    "        rows = result.fetchall()\n",
    "        if rows:\n",
    "            for row in rows:\n",
    "                print(row)\n",
    "        else:\n",
    "            print(\"⚠️ No records found.\")\n",
    "except Exception as e:\n",
    "    print(\" Error fetching data:\", e)\n"
   ],
   "id": "af6ada038f723f82",
   "outputs": [
    {
     "name": "stdout",
     "output_type": "stream",
     "text": [
      "Account Table Data:\n",
      "(101, 'Yasaswini', 'Savings', 5000)\n",
      "(102, 'Krishna', 'Current', 12000)\n",
      "(103, 'Ajay', 'Savings', 8000)\n",
      "(104, 'Sita', 'Current', 15000)\n"
     ]
    }
   ],
   "execution_count": 89
  }
 ],
 "metadata": {
  "kernelspec": {
   "display_name": "Python 3",
   "language": "python",
   "name": "python3"
  },
  "language_info": {
   "codemirror_mode": {
    "name": "ipython",
    "version": 2
   },
   "file_extension": ".py",
   "mimetype": "text/x-python",
   "name": "python",
   "nbconvert_exporter": "python",
   "pygments_lexer": "ipython2",
   "version": "2.7.6"
  }
 },
 "nbformat": 4,
 "nbformat_minor": 5
}
