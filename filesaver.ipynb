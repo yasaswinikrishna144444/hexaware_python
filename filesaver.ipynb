{
 "cells": [
  {
   "cell_type": "code",
   "id": "initial_id",
   "metadata": {
    "collapsed": true,
    "ExecuteTime": {
     "end_time": "2025-06-23T04:34:51.940916Z",
     "start_time": "2025-06-23T04:34:51.932886Z"
    }
   },
   "source": [
    "python -m pip install openpyxl\n",
    "import csv\n",
    "from openpyxl import Workbook\n",
    "\n",
    "# Create a new workbook and select the active worksheet\n",
    "wb = Workbook()\n",
    "sheet = wb.active\n",
    "sheet.title = \"DataFromCSV\"\n",
    "\n",
    "# Open the CSV file and read its content\n",
    "with open(r\"C:\\Users\\grk66\\OneDrive\\Documents\\hexaware\\DAY4(SQL)datset\\SET2.csv\", newline='', encoding='utf-8') as csvfile:\n",
    "    data = csv.reader(csvfile)\n",
    "    for row in data:\n",
    "        sheet.append(row)\n",
    "\n",
    "# Save the workbook to an Excel file\n",
    "wb.save(r\"C:\\Users\\grk66\\OneDrive\\Documents\\hexaware\\DAY4(SQL)datset\\SET2_converted.xlsx\")\n"
   ],
   "outputs": [
    {
     "ename": "SyntaxError",
     "evalue": "invalid syntax (1496292140.py, line 1)",
     "output_type": "error",
     "traceback": [
      "  \u001B[36mCell\u001B[39m\u001B[36m \u001B[39m\u001B[32mIn[7]\u001B[39m\u001B[32m, line 1\u001B[39m\n\u001B[31m    \u001B[39m\u001B[31mpython -m pip install openpyxl\u001B[39m\n              ^\n\u001B[31mSyntaxError\u001B[39m\u001B[31m:\u001B[39m invalid syntax\n"
     ]
    }
   ],
   "execution_count": 7
  }
 ],
 "metadata": {
  "kernelspec": {
   "display_name": "Python 3",
   "language": "python",
   "name": "python3"
  },
  "language_info": {
   "codemirror_mode": {
    "name": "ipython",
    "version": 2
   },
   "file_extension": ".py",
   "mimetype": "text/x-python",
   "name": "python",
   "nbconvert_exporter": "python",
   "pygments_lexer": "ipython2",
   "version": "2.7.6"
  }
 },
 "nbformat": 4,
 "nbformat_minor": 5
}
