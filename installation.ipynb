{
 "cells": [
  {
   "cell_type": "code",
   "id": "initial_id",
   "metadata": {
    "collapsed": true,
    "ExecuteTime": {
     "end_time": "2025-06-24T05:44:42.962271Z",
     "start_time": "2025-06-24T05:44:41.742439Z"
    }
   },
   "source": [
    "from sqlalchemy import create_engine, MetaData, Table, Column, Integer, String, text, select\n",
    "import urllib\n",
    "\n",
    "# Step 1: Connection setup\n",
    "params = urllib.parse.quote_plus(\n",
    "    \"DRIVER={ODBC Driver 17 for SQL Server};\"\n",
    "    \"SERVER=LAPTOP-ECJLSAST\\\\SQLExpress;\"\n",
    "    \"DATABASE=master;\"  # change to BankDB if it's created and accessible\n",
    "    \"Trusted_Connection=yes;\"\n",
    ")\n",
    "engine = create_engine(f\"mssql+pyodbc:///?odbc_connect={params}\")\n",
    "\n",
    "# Step 2: Test connection\n",
    "try:\n",
    "    with engine.connect() as conn:\n",
    "        result = conn.execute(text(\"SELECT @@VERSION\"))\n",
    "        print(\"✅ Connected to SQL Server! Version:\", result.scalar())\n",
    "except Exception as e:\n",
    "    print(\"❌ Connection failed:\", e)\n",
    "\n",
    "# Step 3: Define schema\n",
    "metadata = MetaData()\n",
    "\n",
    "salary_table = Table(\n",
    "    'salary',\n",
    "    metadata,\n",
    "    Column('emp_id', Integer, primary_key=True),\n",
    "    Column('name', String(100), nullable=False),\n",
    "    Column('salary', Integer, nullable=False)\n",
    ")\n",
    "\n",
    "# Step 4: Create table\n",
    "try:\n",
    "    metadata.create_all(engine)\n",
    "    print(\"✅ Table 'salary' created.\")\n",
    "except Exception as e:\n",
    "    print(\"❌ Table creation failed:\", e)\n",
    "\n",
    "# Step 5: Insert records\n",
    "try:\n",
    "    with engine.connect() as conn:\n",
    "        conn.execute(\n",
    "            salary_table.insert(),\n",
    "            [\n",
    "                {'emp_id': 1, 'name': 'Alice', 'salary': 50000},\n",
    "                {'emp_id': 2, 'name': 'Bob', 'salary': 60000}\n",
    "            ]\n",
    "        )\n",
    "        print(\"✅ Sample data inserted.\")\n",
    "except Exception as e:\n",
    "    print(\"❌ Insertion failed:\", e)\n",
    "\n",
    "# Step 6: Read data\n",
    "try:\n",
    "    with engine.connect() as conn:\n",
    "        result = conn.execute(select(salary_table))\n",
    "        print(\"📊 Salary Table Data:\")\n",
    "        for row in result:\n",
    "            print(row)\n",
    "except Exception as e:\n",
    "    print(\"❌ Reading data failed:\", e)\n"
   ],
   "outputs": [
    {
     "name": "stdout",
     "output_type": "stream",
     "text": [
      "✅ Connected to SQL Server! Version: Microsoft SQL Server 2022 (RTM) - 16.0.1000.6 (X64) \n",
      "\tOct  8 2022 05:58:25 \n",
      "\tCopyright (C) 2022 Microsoft Corporation\n",
      "\tExpress Edition (64-bit) on Windows 10 Home 10.0 <X64> (Build 22631: )\n",
      "\n",
      "✅ Table 'salary' created.\n",
      "✅ Sample data inserted.\n",
      "📊 Salary Table Data:\n"
     ]
    }
   ],
   "execution_count": 42
  },
  {
   "metadata": {
    "ExecuteTime": {
     "end_time": "2025-06-24T05:44:43.186553Z",
     "start_time": "2025-06-24T05:44:43.012232Z"
    }
   },
   "cell_type": "code",
   "source": [
    "from sqlalchemy import create_engine, MetaData, Table, Column, Integer, String, text, select\n",
    "import urllib\n",
    "\n",
    "# Step 1: Create engine\n",
    "params = urllib.parse.quote_plus(\n",
    "    \"DRIVER={ODBC Driver 17 for SQL Server};\"\n",
    "    \"SERVER=LAPTOP-ECJLSAST\\\\SQLExpress;\"\n",
    "    \"DATABASE=master;\"\n",
    "    \"Trusted_Connection=yes;\"\n",
    ")\n",
    "engine = create_engine(f\"mssql+pyodbc:///?odbc_connect={params}\")\n",
    "\n",
    "# Step 2: Test connection\n",
    "try:\n",
    "    with engine.connect() as conn:\n",
    "        result = conn.execute(text(\"SELECT @@VERSION\"))\n",
    "        print(\"✅ Connected to SQL Server! Version:\", result.scalar())\n",
    "except Exception as e:\n",
    "    print(\"❌ Connection failed:\", e)\n",
    "\n",
    "# Step 3: Define metadata and salary table\n",
    "metadata = MetaData()\n",
    "\n",
    "salary_table = Table(\n",
    "    'salary',\n",
    "    metadata,\n",
    "    Column('emp_id', Integer, primary_key=True),\n",
    "    Column('name', String(100), nullable=False),\n",
    "    Column('salary', Integer, nullable=False)\n",
    ")\n",
    "\n",
    "# Step 4: Create the table\n",
    "try:\n",
    "    metadata.create_all(engine)\n",
    "    print(\"✅ Table 'salary' created.\")\n",
    "except Exception as e:\n",
    "    print(\"❌ Table creation failed:\", e)\n",
    "\n",
    "# Step 5: Insert sample data\n",
    "try:\n",
    "    with engine.connect() as conn:\n",
    "        conn.execute(\n",
    "            salary_table.insert(),\n",
    "            [\n",
    "                {'emp_id': 1, 'name': 'Alice', 'salary': 50000},\n",
    "                {'emp_id': 2, 'name': 'Bob', 'salary': 60000}\n",
    "            ]\n",
    "        )\n",
    "        print(\"✅ Sample data inserted.\")\n",
    "except Exception as e:\n",
    "    print(\"❌ Data insertion failed:\", e)\n",
    "\n",
    "# Step 6: Fetch and print data\n",
    "try:\n",
    "    with engine.connect() as conn:\n",
    "        result = conn.execute(select(salary_table))\n",
    "        print(\"📊 Salary Table Data:\")\n",
    "        for row in result:\n",
    "            print(row)\n",
    "except Exception as e:\n",
    "    print(\"❌ Data retrieval failed:\", e)\n"
   ],
   "id": "727a523e2bb83300",
   "outputs": [
    {
     "name": "stdout",
     "output_type": "stream",
     "text": [
      "✅ Connected to SQL Server! Version: Microsoft SQL Server 2022 (RTM) - 16.0.1000.6 (X64) \n",
      "\tOct  8 2022 05:58:25 \n",
      "\tCopyright (C) 2022 Microsoft Corporation\n",
      "\tExpress Edition (64-bit) on Windows 10 Home 10.0 <X64> (Build 22631: )\n",
      "\n",
      "✅ Table 'salary' created.\n",
      "✅ Sample data inserted.\n",
      "📊 Salary Table Data:\n"
     ]
    }
   ],
   "execution_count": 43
  }
 ],
 "metadata": {
  "kernelspec": {
   "display_name": "Python 3",
   "language": "python",
   "name": "python3"
  },
  "language_info": {
   "codemirror_mode": {
    "name": "ipython",
    "version": 2
   },
   "file_extension": ".py",
   "mimetype": "text/x-python",
   "name": "python",
   "nbconvert_exporter": "python",
   "pygments_lexer": "ipython2",
   "version": "2.7.6"
  }
 },
 "nbformat": 4,
 "nbformat_minor": 5
}
