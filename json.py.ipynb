{
 "cells": [
  {
   "cell_type": "code",
   "id": "initial_id",
   "metadata": {
    "collapsed": true,
    "ExecuteTime": {
     "end_time": "2025-06-23T05:33:28.191296Z",
     "start_time": "2025-06-23T05:33:28.180588Z"
    }
   },
   "source": [
    "import json\n",
    "\n",
    "data = {\n",
    "    \"person\": {\n",
    "        \"name\": \"John\",\n",
    "        \"age\": 30\n",
    "    },\n",
    "    \"student\": {\n",
    "        \"name\": \"Alice\",\n",
    "        \"age\": 25\n",
    "    }\n",
    "}\n",
    "\n",
    "# Write data to JSON file\n",
    "with open(r\"C:\\Users\\grk66\\OneDrive\\Documents\\ouput.xlsx\", \"w\") as file:\n",
    "    json.dump(data, file, indent=2)\n",
    "\n",
    "# Read data from JSON file\n",
    "with open(r\"C:\\Users\\grk66\\OneDrive\\Documents\\ouput.xlsx\", \"r\") as file:\n",
    "    data = json.load(file)\n",
    "\n",
    "# Access specific field\n",
    "print(data[\"student\"][\"name\"])\n",
    "# Output: Alice\n"
   ],
   "outputs": [
    {
     "name": "stdout",
     "output_type": "stream",
     "text": [
      "Alice\n"
     ]
    }
   ],
   "execution_count": 3
  }
 ],
 "metadata": {
  "kernelspec": {
   "display_name": "Python 3",
   "language": "python",
   "name": "python3"
  },
  "language_info": {
   "codemirror_mode": {
    "name": "ipython",
    "version": 2
   },
   "file_extension": ".py",
   "mimetype": "text/x-python",
   "name": "python",
   "nbconvert_exporter": "python",
   "pygments_lexer": "ipython2",
   "version": "2.7.6"
  }
 },
 "nbformat": 4,
 "nbformat_minor": 5
}
