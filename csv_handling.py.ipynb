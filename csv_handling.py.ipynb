{
 "cells": [
  {
   "cell_type": "code",
   "id": "initial_id",
   "metadata": {
    "collapsed": true,
    "ExecuteTime": {
     "end_time": "2025-06-24T04:08:22.445166Z",
     "start_time": "2025-06-24T04:08:22.432457Z"
    }
   },
   "source": [
    "import csv\n",
    "\n",
    "print(\"1. Writing data to 'people.csv':\")\n",
    "data = [\n",
    "    ['Name', 'Age', 'City'],\n",
    "    ['Alice', 28, 'Boston'],\n",
    "    ['Bob', 35, 'San Francisco'],\n",
    "    ['Charlie', 22, 'New York']\n",
    "]\n",
    "\n",
    "try:\n",
    "    with open('people.csv', 'w', newline='') as file:\n",
    "        writer = csv.writer(file)\n",
    "        writer.writerows(data)\n",
    "    print(\" Data written to 'people.csv'\")\n",
    "except Exception as e:\n",
    "    print(\" Error writing to file:\", e)\n",
    "\n",
    "# -------- 2. Reading CSV Data --------\n",
    "print(\"\\n2. Reading data from 'people.csv':\")\n",
    "try:\n",
    "    with open('people.csv', 'r') as file:\n",
    "        reader = csv.reader(file)\n",
    "        for row in reader:\n",
    "            print(row)\n",
    "except FileNotFoundError:\n",
    "    print(\" File not found.\")\n",
    "except Exception as e:\n",
    "    print(\" Error reading file:\", e)\n",
    "\n",
    "# -------- 3. Writing CSV Using DictWriter --------\n",
    "print(\"\\n3. Writing data with headers using DictWriter:\")\n",
    "people = [\n",
    "    {\"Name\": \"David\", \"Age\": 30, \"City\": \"Chicago\"},\n",
    "    {\"Name\": \"Eva\", \"Age\": 27, \"City\": \"Seattle\"}\n",
    "]\n",
    "\n",
    "fieldnames = [\"Name\", \"Age\", \"City\"]\n",
    "\n",
    "try:\n",
    "    with open('people_dict.csv', 'w', newline='') as file:\n",
    "        writer = csv.DictWriter(file, fieldnames=fieldnames)\n",
    "        writer.writeheader()\n",
    "        writer.writerows(people)\n",
    "    print(\" Data written to 'people_dict.csv'\")\n",
    "except Exception as e:\n",
    "    print(\" Error writing dictionary data:\", e)\n",
    "\n",
    "# -------- 4. Reading CSV Using DictReader --------\n",
    "print(\"\\n4. Reading 'people_dict.csv' using DictReader:\")\n",
    "try:\n",
    "    with open('people_dict.csv', 'r') as file:\n",
    "        reader = csv.DictReader(file)\n",
    "        for row in reader:\n",
    "            print(row)\n",
    "except FileNotFoundError:\n",
    "    print(\" File not found.\")"
   ],
   "outputs": [
    {
     "name": "stdout",
     "output_type": "stream",
     "text": [
      "1. Writing data to 'people.csv':\n",
      " Data written to 'people.csv'\n",
      "\n",
      "2. Reading data from 'people.csv':\n",
      "['Name', 'Age', 'City']\n",
      "['Alice', '28', 'Boston']\n",
      "['Bob', '35', 'San Francisco']\n",
      "['Charlie', '22', 'New York']\n",
      "\n",
      "3. Writing data with headers using DictWriter:\n",
      " Data written to 'people_dict.csv'\n",
      "\n",
      "4. Reading 'people_dict.csv' using DictReader:\n",
      "{'Name': 'David', 'Age': '30', 'City': 'Chicago'}\n",
      "{'Name': 'Eva', 'Age': '27', 'City': 'Seattle'}\n"
     ]
    }
   ],
   "execution_count": 2
  }
 ],
 "metadata": {
  "kernelspec": {
   "display_name": "Python 3",
   "language": "python",
   "name": "python3"
  },
  "language_info": {
   "codemirror_mode": {
    "name": "ipython",
    "version": 2
   },
   "file_extension": ".py",
   "mimetype": "text/x-python",
   "name": "python",
   "nbconvert_exporter": "python",
   "pygments_lexer": "ipython2",
   "version": "2.7.6"
  }
 },
 "nbformat": 4,
 "nbformat_minor": 5
}
