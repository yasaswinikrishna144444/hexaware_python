{
 "cells": [
  {
   "metadata": {},
   "cell_type": "code",
   "outputs": [],
   "execution_count": null,
   "source": "",
   "id": "7c30cad53f8e8120"
  },
  {
   "metadata": {
    "ExecuteTime": {
     "end_time": "2025-06-23T04:19:04.862499Z",
     "start_time": "2025-06-23T04:19:04.854311Z"
    }
   },
   "cell_type": "code",
   "source": [
    "with open(r\"C:\\Users\\grk66\\OneDrive\\Documents\\helloworld.txt\", \"r+\") as file:\n",
    "    content = file.read()\n",
    "    print(content)\n",
    "    file.write(\"\\nI love coding\\nImagine this now\\n\")\n",
    "\n"
   ],
   "id": "initial_id",
   "outputs": [
    {
     "name": "stdout",
     "output_type": "stream",
     "text": [
      "\n",
      "I love coding\n",
      "Imagine this now\n",
      " this now\n",
      "\n",
      "I love coding\n",
      "Imagine this now\n",
      "\n",
      "I love coding\n",
      "Imagine this now\n",
      "\n",
      "I love coding\n",
      "Imagine this now\n",
      "\n"
     ]
    }
   ],
   "execution_count": 14
  }
 ],
 "metadata": {
  "kernelspec": {
   "display_name": "Python 3",
   "language": "python",
   "name": "python3"
  },
  "language_info": {
   "codemirror_mode": {
    "name": "ipython",
    "version": 2
   },
   "file_extension": ".py",
   "mimetype": "text/x-python",
   "name": "python",
   "nbconvert_exporter": "python",
   "pygments_lexer": "ipython2",
   "version": "2.7.6"
  }
 },
 "nbformat": 4,
 "nbformat_minor": 5
}
