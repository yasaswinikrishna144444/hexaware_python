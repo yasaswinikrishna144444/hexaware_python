{
 "cells": [
  {
   "cell_type": "code",
   "id": "initial_id",
   "metadata": {
    "collapsed": true,
    "ExecuteTime": {
     "end_time": "2025-06-24T04:05:51.204773Z",
     "start_time": "2025-06-24T04:05:51.184069Z"
    }
   },
   "source": [
    "import json\n",
    "\n",
    "# -------- 1. Reading JSON from a file --------\n",
    "print(\"1. Reading JSON from file:\")\n",
    "try:\n",
    "    with open('data.json', 'r') as file:\n",
    "        data_from_file = json.load(file)\n",
    "        print(\"Data from file:\", data_from_file)\n",
    "except FileNotFoundError:\n",
    "    print(\" File 'data.json' not found.\")\n",
    "except json.JSONDecodeError:\n",
    "    print(\" 'data.json' contains invalid JSON.\")\n",
    "\n",
    "# -------- 2. Parsing JSON string --------\n",
    "print(\"\\n2. Parsing JSON string:\")\n",
    "json_string = '{\"name\": \"John\", \"age\": 30, \"city\": \"New York\"}'\n",
    "parsed_data = json.loads(json_string)\n",
    "print(\"Parsed data:\", parsed_data)\n",
    "\n",
    "# -------- 3. Writing dictionary to JSON file --------\n",
    "print(\"\\n3. Writing dictionary to JSON file:\")\n",
    "data_dict = {\n",
    "    \"name\": \"Alice\",\n",
    "    \"age\": 25,\n",
    "    \"city\": \"Chennai\",\n",
    "    \"hobbies\": [\"reading\", \"music\", \"cycling\"]\n",
    "}\n",
    "with open('output.json', 'w') as outfile:\n",
    "    json.dump(data_dict, outfile, indent=4)\n",
    "print(\" Data written to 'output.json'\")\n",
    "\n",
    "# -------- 4. Converting dictionary to JSON string --------\n",
    "print(\"\\n4. Converting dict to JSON string:\")\n",
    "json_output = json.dumps(data_dict, indent=4)\n",
    "print(\"JSON String:\\n\", json_output)\n",
    "\n",
    "\n",
    "\n"
   ],
   "outputs": [
    {
     "name": "stdout",
     "output_type": "stream",
     "text": [
      "1. Reading JSON from file:\n",
      " File 'data.json' not found.\n",
      "\n",
      "2. Parsing JSON string:\n",
      "Parsed data: {'name': 'John', 'age': 30, 'city': 'New York'}\n",
      "\n",
      "3. Writing dictionary to JSON file:\n",
      " Data written to 'output.json'\n",
      "\n",
      "4. Converting dict to JSON string:\n",
      "JSON String:\n",
      " {\n",
      "    \"name\": \"Alice\",\n",
      "    \"age\": 25,\n",
      "    \"city\": \"Chennai\",\n",
      "    \"hobbies\": [\n",
      "        \"reading\",\n",
      "        \"music\",\n",
      "        \"cycling\"\n",
      "    ]\n",
      "}\n"
     ]
    }
   ],
   "execution_count": 4
  }
 ],
 "metadata": {
  "kernelspec": {
   "display_name": "Python 3",
   "language": "python",
   "name": "python3"
  },
  "language_info": {
   "codemirror_mode": {
    "name": "ipython",
    "version": 2
   },
   "file_extension": ".py",
   "mimetype": "text/x-python",
   "name": "python",
   "nbconvert_exporter": "python",
   "pygments_lexer": "ipython2",
   "version": "2.7.6"
  }
 },
 "nbformat": 4,
 "nbformat_minor": 5
}
