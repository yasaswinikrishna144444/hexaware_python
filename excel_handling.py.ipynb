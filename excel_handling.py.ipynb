{
 "cells": [
  {
   "cell_type": "code",
   "id": "initial_id",
   "metadata": {
    "collapsed": true,
    "ExecuteTime": {
     "end_time": "2025-06-24T04:10:27.855360Z",
     "start_time": "2025-06-24T04:10:22.470251Z"
    }
   },
   "source": [
    "from openpyxl import Workbook, load_workbook\n",
    "\n",
    "print(\"1. Writing data to 'data.xlsx':\")\n",
    "wb = Workbook()\n",
    "ws = wb.active\n",
    "ws.title = \"Sheet1\"\n",
    "\n",
    "\n",
    "ws.append([\"Name\", \"Age\", \"City\"])\n",
    "ws.append([\"Alice\", 28, \"Boston\"])\n",
    "ws.append([\"Bob\", 35, \"San Francisco\"])\n",
    "ws.append([\"Cara\", 22, \"New York\"])\n",
    "\n",
    "\n",
    "wb.save(\"data.xlsx\")\n",
    "print(\" 'data.xlsx' created and data written.\")\n",
    "\n",
    "\n",
    "print(\"\\n2. Reading data from 'data.xlsx':\")\n",
    "try:\n",
    "    wb = load_workbook(\"data.xlsx\")\n",
    "    ws = wb.active\n",
    "\n",
    "    for row in ws.iter_rows(min_row=1, max_col=3, values_only=True):\n",
    "        print(row)\n",
    "except FileNotFoundError:\n",
    "    print(\" File not found.\")\n",
    "except Exception as e:\n",
    "    print(\" Error reading Excel:\", e)\n",
    "\n",
    "\n",
    "print(\"\\n3. Efficient writing of large data to 'large_data.xlsx':\")\n",
    "wb = Workbook(write_only=True)\n",
    "ws = wb.create_sheet()\n",
    "\n",
    "\n",
    "ws.append([\"Index\", \"Data\"])\n",
    "for i in range(1, 100001):\n",
    "    ws.append([i, f\"Row {i} data\"])\n",
    "\n",
    "wb.save(\"large_data.xlsx\")\n",
    "print(\" 'large_data.xlsx' saved with 100,000 rows.\")\n",
    "\n",
    "\n",
    "print(\"\\n4. Efficient reading from 'large_data.xlsx':\")\n",
    "try:\n",
    "    wb = load_workbook(\"large_data.xlsx\", read_only=True)\n",
    "    ws = wb.active\n",
    "\n",
    "    for row in ws.iter_rows(min_row=1, max_row=5, max_col=2, values_only=True):\n",
    "        print(row)\n",
    "except FileNotFoundError:\n",
    "    print(\" File not found.\")\n",
    "except Exception as e:\n",
    "    print(\" Error reading large file:\", e)"
   ],
   "outputs": [
    {
     "name": "stdout",
     "output_type": "stream",
     "text": [
      "1. Writing data to 'data.xlsx':\n",
      " 'data.xlsx' created and data written.\n",
      "\n",
      "2. Reading data from 'data.xlsx':\n",
      "('Name', 'Age', 'City')\n",
      "('Alice', 28, 'Boston')\n",
      "('Bob', 35, 'San Francisco')\n",
      "('Cara', 22, 'New York')\n",
      "\n",
      "3. Efficient writing of large data to 'large_data.xlsx':\n",
      " 'large_data.xlsx' saved with 100,000 rows.\n",
      "\n",
      "4. Efficient reading from 'large_data.xlsx':\n",
      "('Index', 'Data')\n",
      "(1, 'Row 1 data')\n",
      "(2, 'Row 2 data')\n",
      "(3, 'Row 3 data')\n",
      "(4, 'Row 4 data')\n"
     ]
    }
   ],
   "execution_count": 2
  }
 ],
 "metadata": {
  "kernelspec": {
   "display_name": "Python 3",
   "language": "python",
   "name": "python3"
  },
  "language_info": {
   "codemirror_mode": {
    "name": "ipython",
    "version": 2
   },
   "file_extension": ".py",
   "mimetype": "text/x-python",
   "name": "python",
   "nbconvert_exporter": "python",
   "pygments_lexer": "ipython2",
   "version": "2.7.6"
  }
 },
 "nbformat": 4,
 "nbformat_minor": 5
}
