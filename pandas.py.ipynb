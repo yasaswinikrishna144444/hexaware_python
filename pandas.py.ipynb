{
 "cells": [
  {
   "cell_type": "code",
   "id": "initial_id",
   "metadata": {
    "collapsed": true,
    "ExecuteTime": {
     "end_time": "2025-06-24T04:12:30.501640Z",
     "start_time": "2025-06-24T04:12:29.331214Z"
    }
   },
   "source": [
    "import pandas as pd\n",
    "\n",
    "print(\"1. Creating DataFrame:\")\n",
    "data = {\n",
    "    \"Name\": [\"Alice\", \"Bob\", \"Charlie\", \"David\"],\n",
    "    \"Age\": [28, 35, 22, 40],\n",
    "    \"City\": [\"Boston\", \"San Francisco\", \"New York\", \"Chicago\"]\n",
    "}\n",
    "\n",
    "df = pd.DataFrame(data)\n",
    "print(df)\n",
    "\n",
    "\n",
    "print(\"\\n2. Filter: Age > 30\")\n",
    "filtered_df = df[df[\"Age\"] > 30]\n",
    "print(filtered_df)\n",
    "\n",
    "\n",
    "print(\"\\n3. Sort by Age:\")\n",
    "sorted_df = df.sort_values(by=\"Age\")\n",
    "print(sorted_df)\n",
    "\n",
    "\n",
    "df.to_csv(\"people.csv\", index=False)\n",
    "df.to_excel(\"people.xlsx\", index=False)\n",
    "print(\" Data saved to 'people.csv' and 'people.xlsx'\")\n",
    "\n",
    "\n",
    "print(\"\\n4. Reading from CSV, Excel, JSON\")\n",
    "df_csv = pd.read_csv(\"people.csv\")\n",
    "df_excel = pd.read_excel(\"people.xlsx\")\n",
    "\n",
    "\n",
    "df.to_json(\"people.json\", orient=\"records\", indent=4)\n",
    "df_json = pd.read_json(\"people.json\")\n",
    "\n",
    "print(\"CSV:\\n\", df_csv)\n",
    "print(\"Excel:\\n\", df_excel)\n",
    "print(\"JSON:\\n\", df_json)"
   ],
   "outputs": [
    {
     "name": "stdout",
     "output_type": "stream",
     "text": [
      "1. Creating DataFrame:\n",
      "      Name  Age           City\n",
      "0    Alice   28         Boston\n",
      "1      Bob   35  San Francisco\n",
      "2  Charlie   22       New York\n",
      "3    David   40        Chicago\n",
      "\n",
      "2. Filter: Age > 30\n",
      "    Name  Age           City\n",
      "1    Bob   35  San Francisco\n",
      "3  David   40        Chicago\n",
      "\n",
      "3. Sort by Age:\n",
      "      Name  Age           City\n",
      "2  Charlie   22       New York\n",
      "0    Alice   28         Boston\n",
      "1      Bob   35  San Francisco\n",
      "3    David   40        Chicago\n",
      "✅ Data saved to 'people.csv' and 'people.xlsx'\n",
      "\n",
      "4. Reading from CSV, Excel, JSON\n",
      "CSV:\n",
      "       Name  Age           City\n",
      "0    Alice   28         Boston\n",
      "1      Bob   35  San Francisco\n",
      "2  Charlie   22       New York\n",
      "3    David   40        Chicago\n",
      "Excel:\n",
      "       Name  Age           City\n",
      "0    Alice   28         Boston\n",
      "1      Bob   35  San Francisco\n",
      "2  Charlie   22       New York\n",
      "3    David   40        Chicago\n",
      "JSON:\n",
      "       Name  Age           City\n",
      "0    Alice   28         Boston\n",
      "1      Bob   35  San Francisco\n",
      "2  Charlie   22       New York\n",
      "3    David   40        Chicago\n"
     ]
    }
   ],
   "execution_count": 1
  }
 ],
 "metadata": {
  "kernelspec": {
   "display_name": "Python 3",
   "language": "python",
   "name": "python3"
  },
  "language_info": {
   "codemirror_mode": {
    "name": "ipython",
    "version": 2
   },
   "file_extension": ".py",
   "mimetype": "text/x-python",
   "name": "python",
   "nbconvert_exporter": "python",
   "pygments_lexer": "ipython2",
   "version": "2.7.6"
  }
 },
 "nbformat": 4,
 "nbformat_minor": 5
}
